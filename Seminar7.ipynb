{
  "cells": [
    {
      "cell_type": "markdown",
      "source": [
        "Выбрать тест и проверить, есть  ли различия между выборками:\n",
        "\n",
        "1)  Даны две  независимые выборки. Не соблюдается условие нормальности\n",
        "\n",
        "x1  380,420, 290\n",
        "\n",
        "y1 140,360,200,900\n",
        "\n",
        "Сделайте вывод по результатам, полученным с помощью функции"
      ],
      "metadata": {
        "id": "aeeNI8fLdOtX"
      }
    },
    {
      "cell_type": "code",
      "source": [
        "import numpy as np\n",
        "import scipy.stats as stats\n",
        "x = np.array([380, 420, 290])\n",
        "y = np.array([140, 360, 200, 900])\n",
        "print(stats.mannwhitneyu(x, y))\n",
        "'Вывод: нет статистически значимых различий, так как полученный pvalue > a = 0.05'"
      ],
      "metadata": {
        "id": "yMz6dxqsdTln",
        "outputId": "fee4479b-8cf0-4793-c5f2-a1d0984463ad",
        "colab": {
          "base_uri": "https://localhost:8080/",
          "height": 53
        }
      },
      "execution_count": 6,
      "outputs": [
        {
          "output_type": "stream",
          "name": "stdout",
          "text": [
            "MannwhitneyuResult(statistic=8.0, pvalue=0.6285714285714286)\n"
          ]
        },
        {
          "output_type": "execute_result",
          "data": {
            "text/plain": [
              "'Вывод: нет статистически значимых различий, так как полученный pvalue > a = 0.05'"
            ],
            "application/vnd.google.colaboratory.intrinsic+json": {
              "type": "string"
            }
          },
          "metadata": {},
          "execution_count": 6
        }
      ]
    },
    {
      "cell_type": "markdown",
      "source": [
        "2) Исследовалось влияние препарата на уровень давления пациентов. Сначала измерялось давление до приема препарата, потом через 10 минут и через 30 минут. Есть ли статистически значимые различия?\n",
        "\n",
        "1е измерение до приема препарата: 150, 160, 165, 145, 155\n",
        "\n",
        "2е измерение через 10 минут: 140, 155, 150,  130, 135\n",
        "\n",
        "3е измерение через 30 минут: 130, 130, 120, 130, 125"
      ],
      "metadata": {
        "id": "lqvtV_gvdT3n"
      }
    },
    {
      "cell_type": "code",
      "source": [
        "before = np.array([150, 160, 165, 145, 155])\n",
        "after10 = np.array([140, 155, 150, 130, 135])\n",
        "after30 = np.array([130, 130, 120, 130, 125])\n",
        "print(stats.friedmanchisquare(before, after10, after30))\n",
        "'Вывод: есть статистически значимые различия, так как полученный pvalue < a = 0.05'"
      ],
      "metadata": {
        "id": "2ZuTZluldXTj",
        "outputId": "6ec56b67-b00d-4c14-c8ce-13dac7f2fd46",
        "colab": {
          "base_uri": "https://localhost:8080/",
          "height": 53
        }
      },
      "execution_count": 10,
      "outputs": [
        {
          "output_type": "stream",
          "name": "stdout",
          "text": [
            "FriedmanchisquareResult(statistic=9.578947368421062, pvalue=0.00831683351100441)\n"
          ]
        },
        {
          "output_type": "execute_result",
          "data": {
            "text/plain": [
              "'Вывод: есть статистически значимые различия, так как полученный pvalue < a = 0.05'"
            ],
            "application/vnd.google.colaboratory.intrinsic+json": {
              "type": "string"
            }
          },
          "metadata": {},
          "execution_count": 10
        }
      ]
    },
    {
      "cell_type": "markdown",
      "source": [
        "3) Сравните 1 и 2 е измерения, предполагая, что 3го измерения через 30 минут не было.\n",
        "\n",
        "1е измерение до приема препарата: 150, 160, 165, 145, 155\n",
        "\n",
        "2е измерение через 10 минут: 140, 155, 150, 130, 135"
      ],
      "metadata": {
        "id": "wl00hJ3fdXei"
      }
    },
    {
      "cell_type": "code",
      "source": [
        "x = np.array([150, 160, 165, 145, 155])\n",
        "y = np.array([140, 155, 150, 130, 135])\n",
        "print(stats.wilcoxon(x, y))\n",
        "'Вывод: нет статистически значимых различий, так как полученный pvalue > a = 0.05'"
      ],
      "metadata": {
        "id": "RjU9hrftddKI",
        "outputId": "7713c631-4ef6-4487-9525-ffd5128030b4",
        "colab": {
          "base_uri": "https://localhost:8080/",
          "height": 53
        }
      },
      "execution_count": 7,
      "outputs": [
        {
          "output_type": "stream",
          "name": "stdout",
          "text": [
            "WilcoxonResult(statistic=0.0, pvalue=0.0625)\n"
          ]
        },
        {
          "output_type": "execute_result",
          "data": {
            "text/plain": [
              "'Вывод: нет статистически значимых различий, так как полученный pvalue > a = 0.05'"
            ],
            "application/vnd.google.colaboratory.intrinsic+json": {
              "type": "string"
            }
          },
          "metadata": {},
          "execution_count": 7
        }
      ]
    },
    {
      "cell_type": "markdown",
      "source": [
        "4) Даны 3 группы  учеников плавания.\n",
        "\n",
        "В 1 группе время на дистанцию 50 м составляют:\n",
        "\n",
        "56, 60, 62, 55, 71, 67, 59, 58, 64, 67\n",
        "\n",
        "Вторая группа : 57, 58, 69, 48, 72, 70, 68, 71, 50, 53\n",
        "\n",
        "Третья группа: 57, 67, 49, 48, 47, 55, 66, 51, 54"
      ],
      "metadata": {
        "id": "dpiunlxKdddS"
      }
    },
    {
      "cell_type": "code",
      "source": [
        "x1 = np.array([56, 60, 62, 55, 71, 67, 59, 58, 64, 67])\n",
        "x2 = np.array([57, 58, 69, 48, 72, 70, 68, 71, 50, 53])\n",
        "x3 = np.array([57, 67, 49, 48, 47, 55, 66, 51, 54])\n",
        "print(stats.kruskal(x1, x2, x3))\n",
        "'Вывод: нет статистически значимых различий, так как полученный pvalue > a = 0.05'"
      ],
      "metadata": {
        "id": "HeW644_3dgGe",
        "outputId": "fd80bf35-e38c-4f9c-f80c-729267b5741e",
        "colab": {
          "base_uri": "https://localhost:8080/",
          "height": 53
        }
      },
      "execution_count": 12,
      "outputs": [
        {
          "output_type": "stream",
          "name": "stdout",
          "text": [
            "KruskalResult(statistic=5.465564058257224, pvalue=0.0650380998590494)\n"
          ]
        },
        {
          "output_type": "execute_result",
          "data": {
            "text/plain": [
              "'Вывод: нет статистически значимых различий, так как полученный pvalue > a = 0.05'"
            ],
            "application/vnd.google.colaboratory.intrinsic+json": {
              "type": "string"
            }
          },
          "metadata": {},
          "execution_count": 12
        }
      ]
    },
    {
      "cell_type": "markdown",
      "source": [
        "5) Заявляется, что партия изготавливается со средним арифметическим 2,5 см. Проверить данную гипотезу, если известно, что размеры изделий подчинены нормальному закону распределения. Объем выборки 10, уровень статистической значимости 5%\n",
        "\n",
        "2.51, 2.35, 2.74, 2.56, 2.40, 2.36, 2.65, 2.7, 2.67, 2.34"
      ],
      "metadata": {
        "id": "i5EhEgA-dgQY"
      }
    },
    {
      "cell_type": "code",
      "source": [
        "from math import sqrt\n",
        "import numpy as np\n",
        "from scipy import stats\n",
        "x = np.array([2.51, 2.35, 2.74, 2.56, 2.40, 2.36, 2.65, 2.7, 2.67, 2.34])\n",
        "Xcp = np.mean(x)\n",
        "sigma = np.std(x, ddof = 1)\n",
        "n = 10\n",
        "myu = 2.5\n",
        "t = (Xcp - myu)/sigma/sqrt(n)\n",
        "print(\"t = \", t)\n",
        "print(\"Xcp = \", Xcp)\n",
        "print(\"sigma = \", sigma)\n",
        "\"Вывод: Нет статистически значимых различий, партия изготавливается верно, так как t рассчитанный меньше табличного, равного 2,26\""
      ],
      "metadata": {
        "id": "jErQqx56diY_",
        "outputId": "3b565ec6-de53-4a6e-8c60-0d127abae7f3",
        "colab": {
          "base_uri": "https://localhost:8080/",
          "height": 105
        }
      },
      "execution_count": 14,
      "outputs": [
        {
          "output_type": "stream",
          "name": "stdout",
          "text": [
            "t =  0.05630613661802959\n",
            "Xcp =  2.5279999999999996\n",
            "sigma =  0.1572542173961923\n"
          ]
        },
        {
          "output_type": "execute_result",
          "data": {
            "text/plain": [
              "'Вывод: Нет статистически значимых различий, партия изготавливается верно, так как t рассчитанный меньше табличного, равного 2,26'"
            ],
            "application/vnd.google.colaboratory.intrinsic+json": {
              "type": "string"
            }
          },
          "metadata": {},
          "execution_count": 14
        }
      ]
    }
  ],
  "metadata": {
    "colab": {
      "name": "Добро пожаловать в Colaboratory!",
      "toc_visible": true,
      "provenance": []
    },
    "kernelspec": {
      "display_name": "Python 3",
      "name": "python3"
    }
  },
  "nbformat": 4,
  "nbformat_minor": 0
}